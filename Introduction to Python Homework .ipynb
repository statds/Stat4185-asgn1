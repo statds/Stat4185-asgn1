{
 "cells": [
  {
   "cell_type": "markdown",
   "metadata": {},
   "source": [
    "# Introduction to Python Homework Assignment: Day in the Life of a College Admissions Officer \n",
    "\n",
    "Congratulations! You just got a job as a part of the admission's office of the University of Connecticut. Traditionally, you could now spend 8 hours a day reviewing applications of incoming freshman students but you're a programmer, don't you think you can work faster and smarter? Use python in the following cases to drastically reduce all the work you have to do!\n",
    "\n",
    "*Note that if not already obvious, this activity is not an accurate reflection of the UCONN undergraduate admissions process."
   ]
  },
  {
   "cell_type": "markdown",
   "metadata": {},
   "source": [
    "### Problem 1: Making a Class to represent Students\n",
    "\n",
    "UCONN received 38,000 high school applications last year. Each one of these applicants have an entire life. As somebody who can do programming, you're capable of taking all of their complex experiences and qualitifying them into some simple metrics. Make a class called Student and make sure it can take the following parameters, name, high school, state, GPA, SAT, and Essay Strength."
   ]
  },
  {
   "cell_type": "code",
   "execution_count": 1,
   "metadata": {},
   "outputs": [],
   "source": [
    "###Add your code here!\n",
    "        "
   ]
  },
  {
   "cell_type": "markdown",
   "metadata": {},
   "source": [
    "### Problem 2: Taking all the Student Data and Putting it into one List \n",
    "\n",
    "Below you've been provided the data for all the students you need to process in separate lists. Using this data, create a list of Student objects by processing all the lists into student objects. \n",
    "\n",
    "Hint: the list append function (https://www.programiz.com/python-programming/methods/list/append) and loops can be used to do this task"
   ]
  },
  {
   "cell_type": "code",
   "execution_count": 2,
   "metadata": {},
   "outputs": [],
   "source": [
    "names = [\"Jonathan Husky\", \"Handsome Dan\", \"Sammy Slug\", \"Puckman\", \"Human Being\"]\n",
    "high_schools = [\"EO Smith\", \"Wilbur Cross\", \"Whitney\", \"Maple Hill\", \"Greendale\"]\n",
    "states = [\"CT\", \"CT\", \"CA\", \"NY\", \"CO\"]\n",
    "GPAs = [3.76, 3.9, 3.55, 3.87, 4.0]\n",
    "SATs = [1470, 1570, 1420, 1390, 1600]\n",
    "essays = [7, 5, 4, 3, 10]\n",
    "\n",
    "combined_list = []\n",
    "\n",
    "###Add your code here!\n",
    "    "
   ]
  },
  {
   "cell_type": "markdown",
   "metadata": {},
   "source": [
    "### Problem 3: Taking the List and Filtering Students\n",
    "\n",
    "Since its a competetive year, the evaluations you'll be making are dependent on the essay scores of students and their SAT scores. Filter the list from problem 2 and only include applicants who have a GPA over 3.5 AND a SAT score over 1400. Print out the names of the accepted students. These are the accepted students from your applicants for this year!"
   ]
  },
  {
   "cell_type": "code",
   "execution_count": 3,
   "metadata": {},
   "outputs": [],
   "source": [
    "###Add your code here!"
   ]
  }
 ],
 "metadata": {
  "kernelspec": {
   "display_name": "Python 3",
   "language": "python",
   "name": "python3"
  },
  "language_info": {
   "codemirror_mode": {
    "name": "ipython",
    "version": 3
   },
   "file_extension": ".py",
   "mimetype": "text/x-python",
   "name": "python",
   "nbconvert_exporter": "python",
   "pygments_lexer": "ipython3",
   "version": "3.7.6"
  }
 },
 "nbformat": 4,
 "nbformat_minor": 4
}
